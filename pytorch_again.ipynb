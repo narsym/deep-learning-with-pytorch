{
  "nbformat": 4,
  "nbformat_minor": 0,
  "metadata": {
    "colab": {
      "name": "pytorch-again.ipynb",
      "provenance": [],
      "collapsed_sections": [],
      "authorship_tag": "ABX9TyOEmPUf8knUb1FKBaTodWcT",
      "include_colab_link": true
    },
    "kernelspec": {
      "name": "python3",
      "display_name": "Python 3"
    },
    "accelerator": "GPU"
  },
  "cells": [
    {
      "cell_type": "markdown",
      "metadata": {
        "id": "view-in-github",
        "colab_type": "text"
      },
      "source": [
        "<a href=\"https://colab.research.google.com/github/narsym/deep-learning-with-pytorch/blob/master/pytorch_again.ipynb\" target=\"_parent\"><img src=\"https://colab.research.google.com/assets/colab-badge.svg\" alt=\"Open In Colab\"/></a>"
      ]
    },
    {
      "cell_type": "markdown",
      "metadata": {
        "id": "yGtdpkfHoGlU",
        "colab_type": "text"
      },
      "source": [
        "#pytorch introduction"
      ]
    },
    {
      "cell_type": "code",
      "metadata": {
        "id": "AxklAcm9fxtN",
        "colab_type": "code",
        "colab": {
          "base_uri": "https://localhost:8080/",
          "height": 72
        },
        "outputId": "135b3d8c-7281-47af-995d-49bf039b6ced"
      },
      "source": [
        "import torch\n",
        "print(torch.cuda.is_available())\n",
        "print(torch.rand(2,2))"
      ],
      "execution_count": 4,
      "outputs": [
        {
          "output_type": "stream",
          "text": [
            "True\n",
            "tensor([[0.9008, 0.5137],\n",
            "        [0.5342, 0.2141]])\n"
          ],
          "name": "stdout"
        }
      ]
    },
    {
      "cell_type": "markdown",
      "metadata": {
        "id": "jVL8N1O6f9Oi",
        "colab_type": "text"
      },
      "source": [
        "Creating tensors from lists"
      ]
    },
    {
      "cell_type": "code",
      "metadata": {
        "id": "0Pi2G1Xjgc-Z",
        "colab_type": "code",
        "colab": {
          "base_uri": "https://localhost:8080/",
          "height": 72
        },
        "outputId": "7a8622c8-dd85-4e67-cd34-83b356322f9f"
      },
      "source": [
        "x = torch.tensor([[0,1,0],[1,0,0],[0,0,1]])\n",
        "x"
      ],
      "execution_count": 2,
      "outputs": [
        {
          "output_type": "execute_result",
          "data": {
            "text/plain": [
              "tensor([[0, 1, 0],\n",
              "        [1, 0, 0],\n",
              "        [0, 0, 1]])"
            ]
          },
          "metadata": {
            "tags": []
          },
          "execution_count": 2
        }
      ]
    },
    {
      "cell_type": "markdown",
      "metadata": {
        "id": "VxLVBOm6gtXP",
        "colab_type": "text"
      },
      "source": [
        "Changing values in tensor"
      ]
    },
    {
      "cell_type": "code",
      "metadata": {
        "id": "FqKCglR_gmcU",
        "colab_type": "code",
        "colab": {
          "base_uri": "https://localhost:8080/",
          "height": 72
        },
        "outputId": "f77b8923-2d53-4e20-b1be-6c54659c5db8"
      },
      "source": [
        "x[0][0] = 5\n",
        "x"
      ],
      "execution_count": 3,
      "outputs": [
        {
          "output_type": "execute_result",
          "data": {
            "text/plain": [
              "tensor([[5, 1, 0],\n",
              "        [1, 0, 0],\n",
              "        [0, 0, 1]])"
            ]
          },
          "metadata": {
            "tags": []
          },
          "execution_count": 3
        }
      ]
    },
    {
      "cell_type": "markdown",
      "metadata": {
        "id": "sTP1ROATgsMo",
        "colab_type": "text"
      },
      "source": [
        "Special creation functions to generate particular type of tensors"
      ]
    },
    {
      "cell_type": "code",
      "metadata": {
        "id": "FoUfeXOyg8eA",
        "colab_type": "code",
        "colab": {}
      },
      "source": [
        "y = torch.ones(1,2)\n",
        "z = torch.zeros(1,2)"
      ],
      "execution_count": 4,
      "outputs": []
    },
    {
      "cell_type": "code",
      "metadata": {
        "id": "Ht2RdMD0hBeh",
        "colab_type": "code",
        "colab": {
          "base_uri": "https://localhost:8080/",
          "height": 35
        },
        "outputId": "066ee456-4bdc-4915-d106-0fc957926e80"
      },
      "source": [
        "print(y,z)"
      ],
      "execution_count": 5,
      "outputs": [
        {
          "output_type": "stream",
          "text": [
            "tensor([[1., 1.]]) tensor([[0., 0.]])\n"
          ],
          "name": "stdout"
        }
      ]
    },
    {
      "cell_type": "markdown",
      "metadata": {
        "id": "o-85mwQ2hDQZ",
        "colab_type": "text"
      },
      "source": [
        "Mathematical operations on tensors"
      ]
    },
    {
      "cell_type": "code",
      "metadata": {
        "id": "_mZUqHCahHgR",
        "colab_type": "code",
        "colab": {
          "base_uri": "https://localhost:8080/",
          "height": 35
        },
        "outputId": "4f27d12f-7616-4510-925e-b9568b0beb51"
      },
      "source": [
        "y + z"
      ],
      "execution_count": 6,
      "outputs": [
        {
          "output_type": "execute_result",
          "data": {
            "text/plain": [
              "tensor([[1., 1.]])"
            ]
          },
          "metadata": {
            "tags": []
          },
          "execution_count": 6
        }
      ]
    },
    {
      "cell_type": "markdown",
      "metadata": {
        "id": "plTAieBEhJKw",
        "colab_type": "text"
      },
      "source": [
        "getting value of the tensor of rank 0 using item() function"
      ]
    },
    {
      "cell_type": "code",
      "metadata": {
        "id": "yNIYCxbIibvc",
        "colab_type": "code",
        "colab": {
          "base_uri": "https://localhost:8080/",
          "height": 35
        },
        "outputId": "f35d507f-3c26-4dea-ab70-f681645074e0"
      },
      "source": [
        "a = torch.rand(1)\n",
        "a.item()"
      ],
      "execution_count": 9,
      "outputs": [
        {
          "output_type": "execute_result",
          "data": {
            "text/plain": [
              "0.8993659615516663"
            ]
          },
          "metadata": {
            "tags": []
          },
          "execution_count": 9
        }
      ]
    },
    {
      "cell_type": "markdown",
      "metadata": {
        "id": "fbtQ7AkWid-7",
        "colab_type": "text"
      },
      "source": [
        "Tensors can live on the cpu or on the gpu, can be copied between devices using to() function"
      ]
    },
    {
      "cell_type": "code",
      "metadata": {
        "id": "ozheIVJDi3QY",
        "colab_type": "code",
        "colab": {
          "base_uri": "https://localhost:8080/",
          "height": 35
        },
        "outputId": "4bab19c9-58ff-4549-eb5e-2404ccda1395"
      },
      "source": [
        "cpu_tensor = torch.rand([2,2])\n",
        "cpu_tensor.device"
      ],
      "execution_count": 5,
      "outputs": [
        {
          "output_type": "execute_result",
          "data": {
            "text/plain": [
              "device(type='cpu')"
            ]
          },
          "metadata": {
            "tags": []
          },
          "execution_count": 5
        }
      ]
    },
    {
      "cell_type": "code",
      "metadata": {
        "id": "2hBXp30wi7vr",
        "colab_type": "code",
        "colab": {
          "base_uri": "https://localhost:8080/",
          "height": 35
        },
        "outputId": "0cf69a2d-6dcb-4e9a-d74c-21fed86eb4e3"
      },
      "source": [
        "gpu_tensor = cpu_tensor.to('cuda')\n",
        "gpu_tensor.device"
      ],
      "execution_count": 6,
      "outputs": [
        {
          "output_type": "execute_result",
          "data": {
            "text/plain": [
              "device(type='cuda', index=0)"
            ]
          },
          "metadata": {
            "tags": []
          },
          "execution_count": 6
        }
      ]
    },
    {
      "cell_type": "markdown",
      "metadata": {
        "id": "T5Y2K6xUjFPJ",
        "colab_type": "text"
      },
      "source": [
        "some useful functions"
      ]
    },
    {
      "cell_type": "code",
      "metadata": {
        "id": "N0gAarQijjII",
        "colab_type": "code",
        "colab": {
          "base_uri": "https://localhost:8080/",
          "height": 35
        },
        "outputId": "a3878f76-9901-428b-8e6d-a3112ee92514"
      },
      "source": [
        "torch.rand([2,2]).max() # to get max value"
      ],
      "execution_count": 7,
      "outputs": [
        {
          "output_type": "execute_result",
          "data": {
            "text/plain": [
              "tensor(0.7731)"
            ]
          },
          "metadata": {
            "tags": []
          },
          "execution_count": 7
        }
      ]
    },
    {
      "cell_type": "code",
      "metadata": {
        "id": "Ir2B-ZgDjmrz",
        "colab_type": "code",
        "colab": {
          "base_uri": "https://localhost:8080/",
          "height": 35
        },
        "outputId": "9f530fca-a9fd-4245-a02d-1e33e467c21d"
      },
      "source": [
        "torch.rand([2,2]).max().item() # to get max value in python value format"
      ],
      "execution_count": 8,
      "outputs": [
        {
          "output_type": "execute_result",
          "data": {
            "text/plain": [
              "0.7372029423713684"
            ]
          },
          "metadata": {
            "tags": []
          },
          "execution_count": 8
        }
      ]
    },
    {
      "cell_type": "code",
      "metadata": {
        "id": "RdSeKRlfj0x7",
        "colab_type": "code",
        "colab": {
          "base_uri": "https://localhost:8080/",
          "height": 35
        },
        "outputId": "bfe77c78-f88a-421c-fb63-ee9e69d84960"
      },
      "source": [
        "torch.rand([2,2]).argmax().item() # to get the index of the max value in the tensor"
      ],
      "execution_count": 10,
      "outputs": [
        {
          "output_type": "execute_result",
          "data": {
            "text/plain": [
              "0"
            ]
          },
          "metadata": {
            "tags": []
          },
          "execution_count": 10
        }
      ]
    },
    {
      "cell_type": "markdown",
      "metadata": {
        "id": "nlg-suqsjpVk",
        "colab_type": "text"
      },
      "source": [
        "Change the tensor type"
      ]
    },
    {
      "cell_type": "code",
      "metadata": {
        "id": "ww-Junb2kCQz",
        "colab_type": "code",
        "colab": {
          "base_uri": "https://localhost:8080/",
          "height": 36
        },
        "outputId": "6558ddb4-9404-4d6a-9a01-943ab0fb6d3c"
      },
      "source": [
        "long_tensor = torch.tensor([[0, 0, 1], [0, 1, 0], [1, 0, 0]])\n",
        "long_tensor.type()"
      ],
      "execution_count": 11,
      "outputs": [
        {
          "output_type": "execute_result",
          "data": {
            "application/vnd.google.colaboratory.intrinsic": {
              "type": "string"
            },
            "text/plain": [
              "'torch.LongTensor'"
            ]
          },
          "metadata": {
            "tags": []
          },
          "execution_count": 11
        }
      ]
    },
    {
      "cell_type": "code",
      "metadata": {
        "id": "qvWOscKTkSM8",
        "colab_type": "code",
        "colab": {
          "base_uri": "https://localhost:8080/",
          "height": 36
        },
        "outputId": "1475d261-8e21-464a-c26a-c657bea7a04d"
      },
      "source": [
        "float_tensor = long_tensor.to(dtype = torch.float32)\n",
        "float_tensor.type()"
      ],
      "execution_count": 12,
      "outputs": [
        {
          "output_type": "execute_result",
          "data": {
            "application/vnd.google.colaboratory.intrinsic": {
              "type": "string"
            },
            "text/plain": [
              "'torch.FloatTensor'"
            ]
          },
          "metadata": {
            "tags": []
          },
          "execution_count": 12
        }
      ]
    },
    {
      "cell_type": "markdown",
      "metadata": {
        "id": "y_nfFnUukcK4",
        "colab_type": "text"
      },
      "source": [
        "tensor operations create new tensors and return them to save memory write to the original space allocated using '_' before parenthesis in the function. Should be useful for the most of the functions."
      ]
    },
    {
      "cell_type": "code",
      "metadata": {
        "id": "duJSeGkxk7Xl",
        "colab_type": "code",
        "colab": {
          "base_uri": "https://localhost:8080/",
          "height": 54
        },
        "outputId": "c917f0bd-7e94-4f70-d930-87038c44c120"
      },
      "source": [
        "random_tensor = torch.rand([2,2])\n",
        "random_tensor.log2()"
      ],
      "execution_count": 14,
      "outputs": [
        {
          "output_type": "execute_result",
          "data": {
            "text/plain": [
              "tensor([[-1.2649, -0.1571],\n",
              "        [-2.6169, -2.6380]])"
            ]
          },
          "metadata": {
            "tags": []
          },
          "execution_count": 14
        }
      ]
    },
    {
      "cell_type": "code",
      "metadata": {
        "id": "fctzo5_zk_vm",
        "colab_type": "code",
        "colab": {
          "base_uri": "https://localhost:8080/",
          "height": 54
        },
        "outputId": "a854d5ee-341c-477e-c249-8ed659d5b5cc"
      },
      "source": [
        "random_tensor #original tensor not changed"
      ],
      "execution_count": 15,
      "outputs": [
        {
          "output_type": "execute_result",
          "data": {
            "text/plain": [
              "tensor([[0.4161, 0.8968],\n",
              "        [0.1630, 0.1607]])"
            ]
          },
          "metadata": {
            "tags": []
          },
          "execution_count": 15
        }
      ]
    },
    {
      "cell_type": "code",
      "metadata": {
        "id": "6aV3Y5yglM7R",
        "colab_type": "code",
        "colab": {
          "base_uri": "https://localhost:8080/",
          "height": 54
        },
        "outputId": "7e94a104-3ea8-4869-dc8f-9e1aeda3dc25"
      },
      "source": [
        "random_tensor.log2_()"
      ],
      "execution_count": 17,
      "outputs": [
        {
          "output_type": "execute_result",
          "data": {
            "text/plain": [
              "tensor([[-1.2649, -0.1571],\n",
              "        [-2.6169, -2.6380]])"
            ]
          },
          "metadata": {
            "tags": []
          },
          "execution_count": 17
        }
      ]
    },
    {
      "cell_type": "code",
      "metadata": {
        "id": "OdwQDgHOlLiP",
        "colab_type": "code",
        "colab": {
          "base_uri": "https://localhost:8080/",
          "height": 54
        },
        "outputId": "d62a7740-2397-4436-cd07-8d259732d6b2"
      },
      "source": [
        "random_tensor #now original tensor changed"
      ],
      "execution_count": 18,
      "outputs": [
        {
          "output_type": "execute_result",
          "data": {
            "text/plain": [
              "tensor([[-1.2649, -0.1571],\n",
              "        [-2.6169, -2.6380]])"
            ]
          },
          "metadata": {
            "tags": []
          },
          "execution_count": 18
        }
      ]
    },
    {
      "cell_type": "markdown",
      "metadata": {
        "id": "cnHV5KCNlnSq",
        "colab_type": "text"
      },
      "source": [
        "Shaping the tensor using view() and reshape() functions"
      ]
    },
    {
      "cell_type": "code",
      "metadata": {
        "id": "_k9l6ziEmCKO",
        "colab_type": "code",
        "colab": {
          "base_uri": "https://localhost:8080/",
          "height": 35
        },
        "outputId": "a0da7b99-43fa-4ed4-e2ec-a153ee225b24"
      },
      "source": [
        "flat_tensor = torch.rand(784)\n",
        "viewed_tensor = flat_tensor.view(1, 28, 28)\n",
        "viewed_tensor.shape"
      ],
      "execution_count": 23,
      "outputs": [
        {
          "output_type": "execute_result",
          "data": {
            "text/plain": [
              "torch.Size([1, 28, 28])"
            ]
          },
          "metadata": {
            "tags": []
          },
          "execution_count": 23
        }
      ]
    },
    {
      "cell_type": "code",
      "metadata": {
        "id": "1w4JWdtLmJyJ",
        "colab_type": "code",
        "colab": {
          "base_uri": "https://localhost:8080/",
          "height": 35
        },
        "outputId": "155d9d03-14d1-4c6e-de8c-18e45badc354"
      },
      "source": [
        "reshaped_tensor = flat_tensor.reshape(1, 28, 28) # always use this\n",
        "reshaped_tensor.shape"
      ],
      "execution_count": 24,
      "outputs": [
        {
          "output_type": "execute_result",
          "data": {
            "text/plain": [
              "torch.Size([1, 28, 28])"
            ]
          },
          "metadata": {
            "tags": []
          },
          "execution_count": 24
        }
      ]
    },
    {
      "cell_type": "markdown",
      "metadata": {
        "id": "JK25D0xZmjHd",
        "colab_type": "text"
      },
      "source": [
        "permute to change the dimensions of the tensor"
      ]
    },
    {
      "cell_type": "code",
      "metadata": {
        "id": "R9SSI5BknAka",
        "colab_type": "code",
        "colab": {
          "base_uri": "https://localhost:8080/",
          "height": 35
        },
        "outputId": "6ef364ab-987d-4ff0-e817-fd0ec2a0eee8"
      },
      "source": [
        "hwc_tensor = torch.rand(640, 480, 3)\n",
        "chw_tensor = hwc_tensor.permute(2, 0, 1)\n",
        "chw_tensor.shape"
      ],
      "execution_count": 25,
      "outputs": [
        {
          "output_type": "execute_result",
          "data": {
            "text/plain": [
              "torch.Size([3, 640, 480])"
            ]
          },
          "metadata": {
            "tags": []
          },
          "execution_count": 25
        }
      ]
    },
    {
      "cell_type": "markdown",
      "metadata": {
        "id": "5eZRqBcUnR6O",
        "colab_type": "text"
      },
      "source": [
        "TensorBroadcasting"
      ]
    },
    {
      "cell_type": "code",
      "metadata": {
        "id": "GRU2ikxOnf25",
        "colab_type": "code",
        "colab": {
          "base_uri": "https://localhost:8080/",
          "height": 72
        },
        "outputId": "9d8e71e7-e87a-4cd6-8978-9f49cdd6be53"
      },
      "source": [
        "x = torch.rand(1, 3)\n",
        "y = torch.rand(3, 3)\n",
        "x + y"
      ],
      "execution_count": 26,
      "outputs": [
        {
          "output_type": "execute_result",
          "data": {
            "text/plain": [
              "tensor([[0.7733, 1.4609, 1.3903],\n",
              "        [1.1062, 1.0637, 0.5733],\n",
              "        [0.5861, 1.0028, 0.8634]])"
            ]
          },
          "metadata": {
            "tags": []
          },
          "execution_count": 26
        }
      ]
    }
  ]
}