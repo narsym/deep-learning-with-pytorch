{
  "nbformat": 4,
  "nbformat_minor": 0,
  "metadata": {
    "colab": {
      "name": "Traditional NLP.ipynb",
      "provenance": [],
      "authorship_tag": "ABX9TyN6R/UvLRikIPbwmapqvrFY",
      "include_colab_link": true
    },
    "kernelspec": {
      "name": "python3",
      "display_name": "Python 3"
    }
  },
  "cells": [
    {
      "cell_type": "markdown",
      "metadata": {
        "id": "view-in-github",
        "colab_type": "text"
      },
      "source": [
        "<a href=\"https://colab.research.google.com/github/narsym/deep-learning-with-pytorch/blob/master/Traditional_NLP.ipynb\" target=\"_parent\"><img src=\"https://colab.research.google.com/assets/colab-badge.svg\" alt=\"Open In Colab\"/></a>"
      ]
    },
    {
      "cell_type": "markdown",
      "metadata": {
        "id": "AFGG74zR6rtT",
        "colab_type": "text"
      },
      "source": [
        "Tokenization"
      ]
    },
    {
      "cell_type": "code",
      "metadata": {
        "id": "6ilcIsEm3BRO",
        "colab_type": "code",
        "colab": {
          "base_uri": "https://localhost:8080/",
          "height": 35
        },
        "outputId": "d1a209c2-907d-4c17-c44b-16fa02a6b249"
      },
      "source": [
        "import spacy\n",
        "nlp = spacy.load('en')\n",
        "text = \"Mary, don't slap the grenn witch\"\n",
        "print([str(token) for token in nlp(text.lower())])"
      ],
      "execution_count": 7,
      "outputs": [
        {
          "output_type": "stream",
          "text": [
            "['mary', ',', 'do', \"n't\", 'slap', 'the', 'grenn', 'witch']\n"
          ],
          "name": "stdout"
        }
      ]
    },
    {
      "cell_type": "code",
      "metadata": {
        "id": "ggSFjj3T3dcV",
        "colab_type": "code",
        "colab": {
          "base_uri": "https://localhost:8080/",
          "height": 55
        },
        "outputId": "b5f6a602-48ce-409f-c379-712b045fa05a"
      },
      "source": [
        "from nltk.tokenize import TweetTokenizer\n",
        "tweet = u'Snow White and the Seven Degrees #MakeAMovieCold@midnight:-)'\n",
        "tokenizer = TweetTokenizer()\n",
        "print(tokenizer.tokenize(tweet.lower()))"
      ],
      "execution_count": 8,
      "outputs": [
        {
          "output_type": "stream",
          "text": [
            "['snow', 'white', 'and', 'the', 'seven', 'degrees', '#makeamoviecold', '@midnight', ':-)']\n"
          ],
          "name": "stdout"
        }
      ]
    },
    {
      "cell_type": "markdown",
      "metadata": {
        "id": "6lWBNm0R6oUT",
        "colab_type": "text"
      },
      "source": [
        "N -grams"
      ]
    },
    {
      "cell_type": "code",
      "metadata": {
        "id": "ZbqBllkB4ITa",
        "colab_type": "code",
        "colab": {}
      },
      "source": [
        "def n_grams(text, n):\n",
        "  '''\n",
        "  takes tokens or text, returns a list of n-grams\n",
        "  '''\n",
        "  return [text[i:i+n] for i in range(len(text) - n + 1)]\n",
        "\n",
        "cleaned = ['mary', ',', \"n't\", 'slap', 'green', 'witch', '.']\n",
        "print(n_grams(cleaned, 3))"
      ],
      "execution_count": null,
      "outputs": []
    },
    {
      "cell_type": "code",
      "metadata": {
        "id": "dtWpe1Bl6qoY",
        "colab_type": "code",
        "colab": {}
      },
      "source": [
        ""
      ],
      "execution_count": null,
      "outputs": []
    },
    {
      "cell_type": "markdown",
      "metadata": {
        "id": "sf4dT1-C6lW1",
        "colab_type": "text"
      },
      "source": [
        "Lemmatization"
      ]
    },
    {
      "cell_type": "code",
      "metadata": {
        "id": "6_w6XogV5Lng",
        "colab_type": "code",
        "colab": {
          "base_uri": "https://localhost:8080/",
          "height": 91
        },
        "outputId": "93de3128-b915-4baa-dec9-8b382af705bf"
      },
      "source": [
        "import spacy\n",
        "nlp = spacy.load('en')\n",
        "doc = nlp(u'he was running late')\n",
        "for token in doc:\n",
        "  print(f'{token} --> {token.lemma_}')"
      ],
      "execution_count": 13,
      "outputs": [
        {
          "output_type": "stream",
          "text": [
            "he --> -PRON-\n",
            "was --> be\n",
            "running --> run\n",
            "late --> late\n"
          ],
          "name": "stdout"
        }
      ]
    },
    {
      "cell_type": "markdown",
      "metadata": {
        "id": "W_RbUfqt6Qga",
        "colab_type": "text"
      },
      "source": [
        "Categorizing Sentences and Documents"
      ]
    },
    {
      "cell_type": "code",
      "metadata": {
        "id": "MXuRNivS6jaQ",
        "colab_type": "code",
        "colab": {
          "base_uri": "https://localhost:8080/",
          "height": 128
        },
        "outputId": "044a7a0d-d93e-4ab2-8070-787a131fcdff"
      },
      "source": [
        "import spacy \n",
        "nlp = spacy.load('en')\n",
        "doc = nlp(u'Mary slapped the green witch.')\n",
        "for token in doc:\n",
        "  print(f'{token} - {token.pos_}')"
      ],
      "execution_count": 16,
      "outputs": [
        {
          "output_type": "stream",
          "text": [
            "Mary - PROPN\n",
            "slapped - VERB\n",
            "the - DET\n",
            "green - ADJ\n",
            "witch - NOUN\n",
            ". - PUNCT\n"
          ],
          "name": "stdout"
        }
      ]
    },
    {
      "cell_type": "markdown",
      "metadata": {
        "id": "UhD-y80C7CpN",
        "colab_type": "text"
      },
      "source": [
        "Categorizing spans: Chunking and Named Entitiy Recognition"
      ]
    },
    {
      "cell_type": "code",
      "metadata": {
        "id": "yt70i9Ym7N_Y",
        "colab_type": "code",
        "colab": {
          "base_uri": "https://localhost:8080/",
          "height": 54
        },
        "outputId": "a299bc53-64e1-4709-fe01-4d4531ef4415"
      },
      "source": [
        "import spacy\n",
        "nlp = spacy.load('en')\n",
        "doc = nlp(u'mary slapped the green witch.')\n",
        "for chunk in doc.noun_chunks:\n",
        "  print(f'{chunk} - {chunk.label_}')"
      ],
      "execution_count": 17,
      "outputs": [
        {
          "output_type": "stream",
          "text": [
            "mary - NP\n",
            "the green witch - NP\n"
          ],
          "name": "stdout"
        }
      ]
    }
  ]
}