{
  "nbformat": 4,
  "nbformat_minor": 0,
  "metadata": {
    "colab": {
      "name": "pytorch ch2.ipynb",
      "provenance": [],
      "authorship_tag": "ABX9TyNZ7ASxPSy+UmA5qZX1T21o",
      "include_colab_link": true
    },
    "kernelspec": {
      "name": "python3",
      "display_name": "Python 3"
    }
  },
  "cells": [
    {
      "cell_type": "markdown",
      "metadata": {
        "id": "view-in-github",
        "colab_type": "text"
      },
      "source": [
        "<a href=\"https://colab.research.google.com/github/narsym/deep-learning-with-pytorch/blob/master/pytorch_ch2.ipynb\" target=\"_parent\"><img src=\"https://colab.research.google.com/assets/colab-badge.svg\" alt=\"Open In Colab\"/></a>"
      ]
    },
    {
      "cell_type": "code",
      "metadata": {
        "id": "SaUvEpztp-Bm",
        "colab_type": "code",
        "colab": {}
      },
      "source": [
        "import torch"
      ],
      "execution_count": 0,
      "outputs": []
    },
    {
      "cell_type": "markdown",
      "metadata": {
        "id": "h9jGnWtqqDOL",
        "colab_type": "text"
      },
      "source": [
        "Linear layer in pytorch"
      ]
    },
    {
      "cell_type": "code",
      "metadata": {
        "id": "s0Zjd8c2tGlt",
        "colab_type": "code",
        "colab": {}
      },
      "source": [
        "from torch.nn import Linear\n",
        "myLayer = Linear(in_features = 10,out_features = 5,bias = True)"
      ],
      "execution_count": 0,
      "outputs": []
    },
    {
      "cell_type": "code",
      "metadata": {
        "id": "hL56G71utSIE",
        "colab_type": "code",
        "colab": {
          "base_uri": "https://localhost:8080/",
          "height": 53
        },
        "outputId": "abe5eb62-256d-4802-9996-dc6ed1902559"
      },
      "source": [
        "from torch.autograd import Variable\n",
        "inp = Variable(torch.randn(1,10))\n",
        "myLayer(inp)"
      ],
      "execution_count": 3,
      "outputs": [
        {
          "output_type": "execute_result",
          "data": {
            "text/plain": [
              "tensor([[ 0.0757,  0.8960, -0.0585, -0.5007,  0.0877]],\n",
              "       grad_fn=<AddmmBackward>)"
            ]
          },
          "metadata": {
            "tags": []
          },
          "execution_count": 3
        }
      ]
    },
    {
      "cell_type": "code",
      "metadata": {
        "id": "E-hvktnPtgQ4",
        "colab_type": "code",
        "colab": {
          "base_uri": "https://localhost:8080/",
          "height": 217
        },
        "outputId": "a7107898-8fb2-4762-c924-8a96edd8b2e5"
      },
      "source": [
        "myLayer.weight"
      ],
      "execution_count": 5,
      "outputs": [
        {
          "output_type": "execute_result",
          "data": {
            "text/plain": [
              "Parameter containing:\n",
              "tensor([[ 0.2612,  0.0577,  0.1915,  0.3013,  0.2970, -0.1300,  0.0545,  0.1860,\n",
              "         -0.0154,  0.2400],\n",
              "        [-0.2169, -0.0064,  0.0491,  0.0959, -0.1027,  0.0590,  0.1906, -0.1599,\n",
              "         -0.0371, -0.0329],\n",
              "        [ 0.0009,  0.0072,  0.2838,  0.2365,  0.3143, -0.2558, -0.2941,  0.0910,\n",
              "         -0.2651,  0.0401],\n",
              "        [ 0.1820, -0.0487, -0.1253,  0.1803, -0.2319,  0.1408, -0.2264, -0.3080,\n",
              "         -0.2448,  0.0209],\n",
              "        [ 0.2134,  0.0581, -0.1510,  0.2163, -0.0519, -0.0933, -0.0982,  0.2841,\n",
              "         -0.2346,  0.2478]], requires_grad=True)"
            ]
          },
          "metadata": {
            "tags": []
          },
          "execution_count": 5
        }
      ]
    },
    {
      "cell_type": "code",
      "metadata": {
        "id": "dfU2X6KEtkVB",
        "colab_type": "code",
        "colab": {
          "base_uri": "https://localhost:8080/",
          "height": 53
        },
        "outputId": "eb206725-07b5-439d-9746-ed7796f81c72"
      },
      "source": [
        "myLayer.bias"
      ],
      "execution_count": 6,
      "outputs": [
        {
          "output_type": "execute_result",
          "data": {
            "text/plain": [
              "Parameter containing:\n",
              "tensor([-0.2997,  0.1569,  0.2140, -0.0293,  0.2281], requires_grad=True)"
            ]
          },
          "metadata": {
            "tags": []
          },
          "execution_count": 6
        }
      ]
    },
    {
      "cell_type": "markdown",
      "metadata": {
        "id": "_gKLyx4kvNlX",
        "colab_type": "text"
      },
      "source": [
        "Layers can be stacked"
      ]
    },
    {
      "cell_type": "code",
      "metadata": {
        "id": "PAkeqxp-tuOi",
        "colab_type": "code",
        "colab": {
          "base_uri": "https://localhost:8080/",
          "height": 35
        },
        "outputId": "bf1ea2dc-c3e7-41f3-c992-3b69b95e8833"
      },
      "source": [
        "myLayer1 = Linear(10,5)\n",
        "myLayer2 = Linear(5,2)\n",
        "myLayer2(myLayer1(inp))"
      ],
      "execution_count": 7,
      "outputs": [
        {
          "output_type": "execute_result",
          "data": {
            "text/plain": [
              "tensor([[-0.7350,  0.3748]], grad_fn=<AddmmBackward>)"
            ]
          },
          "metadata": {
            "tags": []
          },
          "execution_count": 7
        }
      ]
    },
    {
      "cell_type": "markdown",
      "metadata": {
        "id": "4oHC_N7xuACn",
        "colab_type": "text"
      },
      "source": [
        "Non linear layers"
      ]
    },
    {
      "cell_type": "markdown",
      "metadata": {
        "id": "XyxznkaovSsG",
        "colab_type": "text"
      },
      "source": [
        "Relu"
      ]
    },
    {
      "cell_type": "code",
      "metadata": {
        "id": "T77uJv32vTx7",
        "colab_type": "code",
        "colab": {
          "base_uri": "https://localhost:8080/",
          "height": 35
        },
        "outputId": "5a72f31f-cfb9-4179-d364-0e62bd02040f"
      },
      "source": [
        "from torch.nn import ReLU\n",
        "sample_data = Variable(torch.Tensor([[1,2,-1,-1]]))\n",
        "myrelu = ReLU()\n",
        "myrelu(sample_data)"
      ],
      "execution_count": 9,
      "outputs": [
        {
          "output_type": "execute_result",
          "data": {
            "text/plain": [
              "tensor([[1., 2., 0., 0.]])"
            ]
          },
          "metadata": {
            "tags": []
          },
          "execution_count": 9
        }
      ]
    },
    {
      "cell_type": "markdown",
      "metadata": {
        "id": "V5qBUZ9owJXa",
        "colab_type": "text"
      },
      "source": [
        "The pytorch way of building neural networks"
      ]
    },
    {
      "cell_type": "code",
      "metadata": {
        "id": "L9w_glnZwZdk",
        "colab_type": "code",
        "colab": {}
      },
      "source": [
        "from torch import nn\n",
        "class MyFirstNetwork(nn.Module):\n",
        "  def __init__(self,input_size,hidden_size,output_size):\n",
        "    super(MyFirstNetwork,self).__init__()\n",
        "    self.layer1 = Linear(input_size,hidden_size)\n",
        "    self.layer2 = Linear(hidden_size,output_size)\n",
        "  def __forward__(self,input):\n",
        "    out = self.layer1(input)\n",
        "    out = self.ReLU(out)\n",
        "    out = self.layer2(out)\n",
        "    return out"
      ],
      "execution_count": 0,
      "outputs": []
    },
    {
      "cell_type": "markdown",
      "metadata": {
        "id": "WDIuSf97x6wG",
        "colab_type": "text"
      },
      "source": [
        "Loss function MSELoss"
      ]
    },
    {
      "cell_type": "code",
      "metadata": {
        "id": "wajzL7KnzA55",
        "colab_type": "code",
        "colab": {}
      },
      "source": [
        "loss = nn.MSELoss()\n",
        "input = Variable(torch.randn(3,5),requires_grad = True)\n",
        "target = Variable(torch.randn(3,5))\n",
        "output = loss(input,target)\n",
        "output.backward()"
      ],
      "execution_count": 0,
      "outputs": []
    },
    {
      "cell_type": "markdown",
      "metadata": {
        "id": "MxpebGEezi4Y",
        "colab_type": "text"
      },
      "source": [
        "how crossentropy loss works"
      ]
    },
    {
      "cell_type": "code",
      "metadata": {
        "id": "DC4S4tpqzzKc",
        "colab_type": "code",
        "colab": {}
      },
      "source": [
        "def cross_entropy(true_label,prediction):\n",
        "  if true_label == 1:\n",
        "    return -log(prediction)\n",
        "  else:\n",
        "    return -log(1 - prediction)"
      ],
      "execution_count": 0,
      "outputs": []
    },
    {
      "cell_type": "markdown",
      "metadata": {
        "id": "z7QPcJSg0Dt3",
        "colab_type": "text"
      },
      "source": [
        "pytorch's implementation of crossentropy loss"
      ]
    },
    {
      "cell_type": "code",
      "metadata": {
        "id": "7EG96QfQ0PdN",
        "colab_type": "code",
        "colab": {}
      },
      "source": [
        "loss = nn.CrossEntropyLoss()\n",
        "input = Variable(torch.randn(3,5),requires_grad = True)\n",
        "target = Variable(torch.LongTensor(3).random_(5))\n",
        "output = loss(input,target)\n",
        "output.backward()"
      ],
      "execution_count": 0,
      "outputs": []
    },
    {
      "cell_type": "markdown",
      "metadata": {
        "id": "FUir6FrA0lfD",
        "colab_type": "text"
      },
      "source": [
        "\n",
        "\n",
        "> Loss types\n",
        "\n",
        "\n",
        "1.   L1 loss (mostly used as reguralizer)\n",
        "2.   MSELoss (used for regression)\n",
        "3.   Cross-entropyloss (used for binary and multiclassification problems\n",
        "4.   NLL Loss (used for classification problems and allows us to use specific weights for imbalenced datasets)\n",
        "5.   NLL Loss2d (used for pixel wise classfication, mostly used for image segmentation)\n",
        "\n",
        "\n",
        "\n"
      ]
    },
    {
      "cell_type": "markdown",
      "metadata": {
        "id": "594eFCgk1llN",
        "colab_type": "text"
      },
      "source": [
        "\n",
        "\n",
        "> Some of the pytorch optimizers\n",
        "\n",
        "\n",
        "*   ADADELTA\n",
        "*   Adagrad\n",
        "*   Adam\n",
        "*   SparseAdam\n",
        "*   Adamax\n",
        "*   ASGD\n",
        "*   LBFGS\n",
        "*   RMSProp\n",
        "*   Rprop\n",
        "*   SGD\n",
        "\n",
        "\n",
        "\n"
      ]
    },
    {
      "cell_type": "markdown",
      "metadata": {
        "id": "t0rfH0vp2RAL",
        "colab_type": "text"
      },
      "source": [
        "Creating optimizer"
      ]
    },
    {
      "cell_type": "code",
      "metadata": {
        "id": "ApTm_q3z3CY6",
        "colab_type": "code",
        "colab": {}
      },
      "source": [
        "optimizer = optim.SGD(model.parameters(),lr = 0.01)"
      ],
      "execution_count": 0,
      "outputs": []
    },
    {
      "cell_type": "markdown",
      "metadata": {
        "id": "48JyW54C3MQa",
        "colab_type": "text"
      },
      "source": [
        "Training neural network"
      ]
    },
    {
      "cell_type": "code",
      "metadata": {
        "id": "6BTtm_XK3Q3S",
        "colab_type": "code",
        "colab": {}
      },
      "source": [
        "for input,target in dataset:\n",
        "  optimizer.zero_grad()\n",
        "  output = model(input)\n",
        "  loss = loss_fn(output,target)\n",
        "  loss.backward()\n",
        "  optimizer.step()"
      ],
      "execution_count": 0,
      "outputs": []
    },
    {
      "cell_type": "markdown",
      "metadata": {
        "id": "qH048_AJ4IRH",
        "colab_type": "text"
      },
      "source": [
        "Follow up is cats vs dogs notebook in which learned knowledge is implemented."
      ]
    }
  ]
}