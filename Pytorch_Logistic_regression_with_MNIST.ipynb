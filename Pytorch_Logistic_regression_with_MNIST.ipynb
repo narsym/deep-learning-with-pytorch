{
  "nbformat": 4,
  "nbformat_minor": 0,
  "metadata": {
    "colab": {
      "name": "Pytorch Logistic regression with MNIST.ipynb",
      "provenance": [],
      "authorship_tag": "ABX9TyOxmVifcvwAr2/EN3MS1GnD",
      "include_colab_link": true
    },
    "kernelspec": {
      "name": "python3",
      "display_name": "Python 3"
    }
  },
  "cells": [
    {
      "cell_type": "markdown",
      "metadata": {
        "id": "view-in-github",
        "colab_type": "text"
      },
      "source": [
        "<a href=\"https://colab.research.google.com/github/narsym/deep-learning-with-pytorch/blob/master/Pytorch_Logistic_regression_with_MNIST.ipynb\" target=\"_parent\"><img src=\"https://colab.research.google.com/assets/colab-badge.svg\" alt=\"Open In Colab\"/></a>"
      ]
    },
    {
      "cell_type": "code",
      "metadata": {
        "id": "jyQaCPPhd8Mu",
        "colab_type": "code",
        "colab": {}
      },
      "source": [
        "import torch\n",
        "import torchvision\n",
        "from torchvision.datasets import MNIST"
      ],
      "execution_count": 60,
      "outputs": []
    },
    {
      "cell_type": "code",
      "metadata": {
        "id": "XItTtpWGeczf",
        "colab_type": "code",
        "colab": {}
      },
      "source": [
        "dataset = MNIST(root = 'data/', download = True)"
      ],
      "execution_count": 61,
      "outputs": []
    },
    {
      "cell_type": "code",
      "metadata": {
        "id": "YeEBCJiHehVA",
        "colab_type": "code",
        "colab": {
          "base_uri": "https://localhost:8080/",
          "height": 35
        },
        "outputId": "3b7dca3a-4b82-46fd-8e2d-03438a51e63b"
      },
      "source": [
        "len(dataset)"
      ],
      "execution_count": 62,
      "outputs": [
        {
          "output_type": "execute_result",
          "data": {
            "text/plain": [
              "60000"
            ]
          },
          "metadata": {
            "tags": []
          },
          "execution_count": 62
        }
      ]
    },
    {
      "cell_type": "code",
      "metadata": {
        "id": "TeGDqqRTen-4",
        "colab_type": "code",
        "colab": {}
      },
      "source": [
        "test_dataset = MNIST(root = 'data/', train = False)"
      ],
      "execution_count": 63,
      "outputs": []
    },
    {
      "cell_type": "code",
      "metadata": {
        "id": "m7I540lVeshx",
        "colab_type": "code",
        "colab": {
          "base_uri": "https://localhost:8080/",
          "height": 35
        },
        "outputId": "071e9d61-2000-441f-d2d7-4992289234b3"
      },
      "source": [
        "len(test_dataset)"
      ],
      "execution_count": 64,
      "outputs": [
        {
          "output_type": "execute_result",
          "data": {
            "text/plain": [
              "10000"
            ]
          },
          "metadata": {
            "tags": []
          },
          "execution_count": 64
        }
      ]
    },
    {
      "cell_type": "code",
      "metadata": {
        "id": "o9ZXgP50et3u",
        "colab_type": "code",
        "colab": {
          "base_uri": "https://localhost:8080/",
          "height": 35
        },
        "outputId": "6f2eacbf-e7bb-4283-dc39-025af7363567"
      },
      "source": [
        "dataset[0]"
      ],
      "execution_count": 65,
      "outputs": [
        {
          "output_type": "execute_result",
          "data": {
            "text/plain": [
              "(<PIL.Image.Image image mode=L size=28x28 at 0x7F1BD29D3898>, 5)"
            ]
          },
          "metadata": {
            "tags": []
          },
          "execution_count": 65
        }
      ]
    },
    {
      "cell_type": "code",
      "metadata": {
        "id": "ToV_AHK-evnn",
        "colab_type": "code",
        "colab": {}
      },
      "source": [
        "import matplotlib.pyplot as plt\n",
        "%matplotlib inline"
      ],
      "execution_count": 66,
      "outputs": []
    },
    {
      "cell_type": "code",
      "metadata": {
        "id": "gUQ2zbeJe5yE",
        "colab_type": "code",
        "colab": {
          "base_uri": "https://localhost:8080/",
          "height": 283
        },
        "outputId": "06801459-64dc-45b6-9424-515a6a49e09f"
      },
      "source": [
        "image, label = dataset[0]\n",
        "plt.imshow(image, cmap = 'gray')\n",
        "print('Label:', label)"
      ],
      "execution_count": 67,
      "outputs": [
        {
          "output_type": "stream",
          "text": [
            "Label: 5\n"
          ],
          "name": "stdout"
        },
        {
          "output_type": "display_data",
          "data": {
            "image/png": "[encoded data removed]",
            "text/plain": [
              "<Figure size 432x288 with 1 Axes>"
            ]
          },
          "metadata": {
            "tags": [],
            "needs_background": "light"
          }
        }
      ]
    },
    {
      "cell_type": "code",
      "metadata": {
        "id": "poG6DaedfFFx",
        "colab_type": "code",
        "colab": {
          "base_uri": "https://localhost:8080/",
          "height": 283
        },
        "outputId": "3c97129a-9ccb-4f07-c626-315c110095c2"
      },
      "source": [
        "image, label = dataset[10]\n",
        "plt.imshow(image, cmap = 'gray')\n",
        "print('Label:', label)"
      ],
      "execution_count": 68,
      "outputs": [
        {
          "output_type": "stream",
          "text": [
            "Label: 3\n"
          ],
          "name": "stdout"
        },
        {
          "output_type": "display_data",
          "data": {
            "image/png": "[encoded data removed]",
            "text/plain": [
              "<Figure size 432x288 with 1 Axes>"
            ]
          },
          "metadata": {
            "tags": [],
            "needs_background": "light"
          }
        }
      ]
    },
    {
      "cell_type": "code",
      "metadata": {
        "id": "g4SjQy3ifRrP",
        "colab_type": "code",
        "colab": {}
      },
      "source": [
        "import torchvision.transforms as transforms"
      ],
      "execution_count": 69,
      "outputs": []
    },
    {
      "cell_type": "code",
      "metadata": {
        "id": "JdODAOFufYTA",
        "colab_type": "code",
        "colab": {}
      },
      "source": [
        "dataset = MNIST(root = 'data/', train = True, transform = transforms.ToTensor())"
      ],
      "execution_count": 70,
      "outputs": []
    },
    {
      "cell_type": "code",
      "metadata": {
        "id": "dFTAsN1SfgR_",
        "colab_type": "code",
        "colab": {
          "base_uri": "https://localhost:8080/",
          "height": 35
        },
        "outputId": "758bff53-afae-4a10-f156-45795f7aec80"
      },
      "source": [
        "img_tensor, label = dataset[0]\n",
        "print(img_tensor.shape, label)"
      ],
      "execution_count": 71,
      "outputs": [
        {
          "output_type": "stream",
          "text": [
            "torch.Size([1, 28, 28]) 5\n"
          ],
          "name": "stdout"
        }
      ]
    },
    {
      "cell_type": "code",
      "metadata": {
        "id": "zxY6nMnLflDE",
        "colab_type": "code",
        "colab": {
          "base_uri": "https://localhost:8080/",
          "height": 128
        },
        "outputId": "98ea8575-dfa5-4d8f-a5cd-17daf353d677"
      },
      "source": [
        "print(img_tensor[:, 10:15, 10:15])\n",
        "print(torch.max(img_tensor), torch.min(img_tensor))"
      ],
      "execution_count": 72,
      "outputs": [
        {
          "output_type": "stream",
          "text": [
            "tensor([[[0.0039, 0.6039, 0.9922, 0.3529, 0.0000],\n",
            "         [0.0000, 0.5451, 0.9922, 0.7451, 0.0078],\n",
            "         [0.0000, 0.0431, 0.7451, 0.9922, 0.2745],\n",
            "         [0.0000, 0.0000, 0.1373, 0.9451, 0.8824],\n",
            "         [0.0000, 0.0000, 0.0000, 0.3176, 0.9412]]])\n",
            "tensor(1.) tensor(0.)\n"
          ],
          "name": "stdout"
        }
      ]
    },
    {
      "cell_type": "code",
      "metadata": {
        "id": "dHTlY5Tff57u",
        "colab_type": "code",
        "colab": {
          "base_uri": "https://localhost:8080/",
          "height": 283
        },
        "outputId": "76b61dce-f2ae-4006-cddc-e5e1629fe2ad"
      },
      "source": [
        "plt.imshow(img_tensor[0, 10:15, 10:15], cmap = 'gray')"
      ],
      "execution_count": 73,
      "outputs": [
        {
          "output_type": "execute_result",
          "data": {
            "text/plain": [
              "<matplotlib.image.AxesImage at 0x7f1bd26e5eb8>"
            ]
          },
          "metadata": {
            "tags": []
          },
          "execution_count": 73
        },
        {
          "output_type": "display_data",
          "data": {
            "image/png": "[encoded data removed]",
            "text/plain": [
              "<Figure size 432x288 with 1 Axes>"
            ]
          },
          "metadata": {
            "tags": [],
            "needs_background": "light"
          }
        }
      ]
    },
    {
      "cell_type": "code",
      "metadata": {
        "id": "wWA0juDPgFxM",
        "colab_type": "code",
        "colab": {}
      },
      "source": [
        "import numpy as np\n",
        "\n",
        "def split_indices(n, val_pct):\n",
        "\n",
        "  n_val =int(val_pct * n)\n",
        "  idxs = np.random.permutation(n)\n",
        "  return idxs[n_val :], idxs[: n_val]"
      ],
      "execution_count": 74,
      "outputs": []
    },
    {
      "cell_type": "code",
      "metadata": {
        "id": "nwxxOESIhNbe",
        "colab_type": "code",
        "colab": {}
      },
      "source": [
        "train_indices, val_indices = split_indices(len(dataset), val_pct = 0.2)"
      ],
      "execution_count": 75,
      "outputs": []
    },
    {
      "cell_type": "code",
      "metadata": {
        "id": "Puz2Wu_BhTEj",
        "colab_type": "code",
        "colab": {
          "base_uri": "https://localhost:8080/",
          "height": 72
        },
        "outputId": "db989973-f4ad-4e0b-dea8-4528b02bf5df"
      },
      "source": [
        "print(len(train_indices), len(val_indices))\n",
        "print('Sample val indices: ', val_indices[:20])"
      ],
      "execution_count": 76,
      "outputs": [
        {
          "output_type": "stream",
          "text": [
            "48000 12000\n",
            "Sample val indices:  [ 3113 26930 12695  2918 25494 24147 49854 28448 57897 48647 30339 27067\n",
            " 20861 44916 38551 56189 47356  2789 59646 41958]\n"
          ],
          "name": "stdout"
        }
      ]
    },
    {
      "cell_type": "code",
      "metadata": {
        "id": "6z3PX1Zkhe0e",
        "colab_type": "code",
        "colab": {}
      },
      "source": [
        "from torch.utils.data.sampler import SubsetRandomSampler\n",
        "from torch.utils.data.dataloader import DataLoader"
      ],
      "execution_count": 77,
      "outputs": []
    },
    {
      "cell_type": "code",
      "metadata": {
        "id": "iZtayB6ahvE4",
        "colab_type": "code",
        "colab": {}
      },
      "source": [
        "batch_size = 100\n",
        "\n",
        "train_sampler = SubsetRandomSampler(train_indices)\n",
        "train_loader = DataLoader(dataset, batch_size, sampler = train_sampler)\n",
        "\n",
        "val_sampler = SubsetRandomSampler(val_indices)\n",
        "val_loader = DataLoader(dataset, batch_size, sampler = val_sampler)"
      ],
      "execution_count": 78,
      "outputs": []
    },
    {
      "cell_type": "code",
      "metadata": {
        "id": "EZ7bUnwdia8x",
        "colab_type": "code",
        "colab": {}
      },
      "source": [
        "import torch.nn as nn\n",
        "\n",
        "input_size = 784\n",
        "num_classes = 10\n",
        "\n",
        "model = nn.Linear(input_size, num_classes)"
      ],
      "execution_count": 79,
      "outputs": []
    },
    {
      "cell_type": "code",
      "metadata": {
        "id": "MGbKHnx7jlpK",
        "colab_type": "code",
        "colab": {
          "base_uri": "https://localhost:8080/",
          "height": 202
        },
        "outputId": "7e132418-21a3-4765-c3a6-5b890dc8e0a9"
      },
      "source": [
        "print(model.weight.shape)\n",
        "model.weight"
      ],
      "execution_count": 80,
      "outputs": [
        {
          "output_type": "stream",
          "text": [
            "torch.Size([10, 784])\n"
          ],
          "name": "stdout"
        },
        {
          "output_type": "execute_result",
          "data": {
            "text/plain": [
              "Parameter containing:\n",
              "tensor([[-0.0316,  0.0166,  0.0022,  ..., -0.0198, -0.0185,  0.0293],\n",
              "        [-0.0167,  0.0338,  0.0318,  ..., -0.0203, -0.0039,  0.0324],\n",
              "        [-0.0351, -0.0227,  0.0106,  ...,  0.0283,  0.0311, -0.0069],\n",
              "        ...,\n",
              "        [-0.0346,  0.0236, -0.0098,  ...,  0.0054,  0.0057,  0.0097],\n",
              "        [ 0.0270,  0.0143, -0.0127,  ..., -0.0200, -0.0086, -0.0038],\n",
              "        [ 0.0167, -0.0047, -0.0240,  ..., -0.0209, -0.0296,  0.0057]],\n",
              "       requires_grad=True)"
            ]
          },
          "metadata": {
            "tags": []
          },
          "execution_count": 80
        }
      ]
    },
    {
      "cell_type": "code",
      "metadata": {
        "id": "ClZFs0QFjzE2",
        "colab_type": "code",
        "colab": {
          "base_uri": "https://localhost:8080/",
          "height": 91
        },
        "outputId": "a16ff946-29fd-4059-f649-80025fee4063"
      },
      "source": [
        "print(model.bias.shape)\n",
        "model.bias"
      ],
      "execution_count": 81,
      "outputs": [
        {
          "output_type": "stream",
          "text": [
            "torch.Size([10])\n"
          ],
          "name": "stdout"
        },
        {
          "output_type": "execute_result",
          "data": {
            "text/plain": [
              "Parameter containing:\n",
              "tensor([ 0.0097, -0.0310,  0.0208, -0.0083,  0.0159, -0.0088,  0.0177,  0.0142,\n",
              "        -0.0162, -0.0247], requires_grad=True)"
            ]
          },
          "metadata": {
            "tags": []
          },
          "execution_count": 81
        }
      ]
    },
    {
      "cell_type": "code",
      "metadata": {
        "id": "2exyb5XBkAxN",
        "colab_type": "code",
        "colab": {
          "base_uri": "https://localhost:8080/",
          "height": 492
        },
        "outputId": "ab9d6c92-e3b3-45a6-8f2d-6e7120d7c0f2"
      },
      "source": [
        "for images, labels in train_loader:\n",
        "  print(labels)\n",
        "  print(images.shape)\n",
        "  outputs = model(images)\n",
        "  break"
      ],
      "execution_count": 82,
      "outputs": [
        {
          "output_type": "stream",
          "text": [
            "tensor([7, 0, 4, 4, 4, 9, 8, 3, 3, 7, 8, 9, 9, 9, 0, 8, 6, 3, 1, 7, 6, 6, 4, 6,\n",
            "        0, 6, 0, 9, 1, 0, 7, 7, 7, 3, 2, 1, 6, 4, 5, 2, 0, 9, 1, 5, 7, 2, 7, 3,\n",
            "        0, 1, 1, 1, 8, 3, 8, 4, 1, 1, 3, 6, 6, 2, 1, 0, 6, 8, 6, 1, 2, 3, 8, 5,\n",
            "        2, 8, 6, 5, 7, 0, 0, 7, 4, 0, 4, 1, 9, 3, 1, 4, 7, 3, 5, 8, 1, 0, 5, 6,\n",
            "        3, 6, 9, 9])\n",
            "torch.Size([100, 1, 28, 28])\n"
          ],
          "name": "stdout"
        },
        {
          "output_type": "error",
          "ename": "RuntimeError",
          "evalue": "ignored",
          "traceback": [
            "\u001b[0;31m---------------------------------------------------------------------------\u001b[0m",
            "\u001b[0;31mRuntimeError\u001b[0m                              Traceback (most recent call last)",
            "\u001b[0;32m<ipython-input-82-a8c0fa89d43a>\u001b[0m in \u001b[0;36m<module>\u001b[0;34m()\u001b[0m\n\u001b[1;32m      2\u001b[0m   \u001b[0mprint\u001b[0m\u001b[0;34m(\u001b[0m\u001b[0mlabels\u001b[0m\u001b[0;34m)\u001b[0m\u001b[0;34m\u001b[0m\u001b[0;34m\u001b[0m\u001b[0m\n\u001b[1;32m      3\u001b[0m   \u001b[0mprint\u001b[0m\u001b[0;34m(\u001b[0m\u001b[0mimages\u001b[0m\u001b[0;34m.\u001b[0m\u001b[0mshape\u001b[0m\u001b[0;34m)\u001b[0m\u001b[0;34m\u001b[0m\u001b[0;34m\u001b[0m\u001b[0m\n\u001b[0;32m----> 4\u001b[0;31m   \u001b[0moutputs\u001b[0m \u001b[0;34m=\u001b[0m \u001b[0mmodel\u001b[0m\u001b[0;34m(\u001b[0m\u001b[0mimages\u001b[0m\u001b[0;34m)\u001b[0m\u001b[0;34m\u001b[0m\u001b[0;34m\u001b[0m\u001b[0m\n\u001b[0m\u001b[1;32m      5\u001b[0m   \u001b[0;32mbreak\u001b[0m\u001b[0;34m\u001b[0m\u001b[0;34m\u001b[0m\u001b[0m\n",
            "\u001b[0;32m/usr/local/lib/python3.6/dist-packages/torch/nn/modules/module.py\u001b[0m in \u001b[0;36m__call__\u001b[0;34m(self, *input, **kwargs)\u001b[0m\n\u001b[1;32m    548\u001b[0m             \u001b[0mresult\u001b[0m \u001b[0;34m=\u001b[0m \u001b[0mself\u001b[0m\u001b[0;34m.\u001b[0m\u001b[0m_slow_forward\u001b[0m\u001b[0;34m(\u001b[0m\u001b[0;34m*\u001b[0m\u001b[0minput\u001b[0m\u001b[0;34m,\u001b[0m \u001b[0;34m**\u001b[0m\u001b[0mkwargs\u001b[0m\u001b[0;34m)\u001b[0m\u001b[0;34m\u001b[0m\u001b[0;34m\u001b[0m\u001b[0m\n\u001b[1;32m    549\u001b[0m         \u001b[0;32melse\u001b[0m\u001b[0;34m:\u001b[0m\u001b[0;34m\u001b[0m\u001b[0;34m\u001b[0m\u001b[0m\n\u001b[0;32m--> 550\u001b[0;31m             \u001b[0mresult\u001b[0m \u001b[0;34m=\u001b[0m \u001b[0mself\u001b[0m\u001b[0;34m.\u001b[0m\u001b[0mforward\u001b[0m\u001b[0;34m(\u001b[0m\u001b[0;34m*\u001b[0m\u001b[0minput\u001b[0m\u001b[0;34m,\u001b[0m \u001b[0;34m**\u001b[0m\u001b[0mkwargs\u001b[0m\u001b[0;34m)\u001b[0m\u001b[0;34m\u001b[0m\u001b[0;34m\u001b[0m\u001b[0m\n\u001b[0m\u001b[1;32m    551\u001b[0m         \u001b[0;32mfor\u001b[0m \u001b[0mhook\u001b[0m \u001b[0;32min\u001b[0m \u001b[0mself\u001b[0m\u001b[0;34m.\u001b[0m\u001b[0m_forward_hooks\u001b[0m\u001b[0;34m.\u001b[0m\u001b[0mvalues\u001b[0m\u001b[0;34m(\u001b[0m\u001b[0;34m)\u001b[0m\u001b[0;34m:\u001b[0m\u001b[0;34m\u001b[0m\u001b[0;34m\u001b[0m\u001b[0m\n\u001b[1;32m    552\u001b[0m             \u001b[0mhook_result\u001b[0m \u001b[0;34m=\u001b[0m \u001b[0mhook\u001b[0m\u001b[0;34m(\u001b[0m\u001b[0mself\u001b[0m\u001b[0;34m,\u001b[0m \u001b[0minput\u001b[0m\u001b[0;34m,\u001b[0m \u001b[0mresult\u001b[0m\u001b[0;34m)\u001b[0m\u001b[0;34m\u001b[0m\u001b[0;34m\u001b[0m\u001b[0m\n",
            "\u001b[0;32m/usr/local/lib/python3.6/dist-packages/torch/nn/modules/linear.py\u001b[0m in \u001b[0;36mforward\u001b[0;34m(self, input)\u001b[0m\n\u001b[1;32m     85\u001b[0m \u001b[0;34m\u001b[0m\u001b[0m\n\u001b[1;32m     86\u001b[0m     \u001b[0;32mdef\u001b[0m \u001b[0mforward\u001b[0m\u001b[0;34m(\u001b[0m\u001b[0mself\u001b[0m\u001b[0;34m,\u001b[0m \u001b[0minput\u001b[0m\u001b[0;34m)\u001b[0m\u001b[0;34m:\u001b[0m\u001b[0;34m\u001b[0m\u001b[0;34m\u001b[0m\u001b[0m\n\u001b[0;32m---> 87\u001b[0;31m         \u001b[0;32mreturn\u001b[0m \u001b[0mF\u001b[0m\u001b[0;34m.\u001b[0m\u001b[0mlinear\u001b[0m\u001b[0;34m(\u001b[0m\u001b[0minput\u001b[0m\u001b[0;34m,\u001b[0m \u001b[0mself\u001b[0m\u001b[0;34m.\u001b[0m\u001b[0mweight\u001b[0m\u001b[0;34m,\u001b[0m \u001b[0mself\u001b[0m\u001b[0;34m.\u001b[0m\u001b[0mbias\u001b[0m\u001b[0;34m)\u001b[0m\u001b[0;34m\u001b[0m\u001b[0;34m\u001b[0m\u001b[0m\n\u001b[0m\u001b[1;32m     88\u001b[0m \u001b[0;34m\u001b[0m\u001b[0m\n\u001b[1;32m     89\u001b[0m     \u001b[0;32mdef\u001b[0m \u001b[0mextra_repr\u001b[0m\u001b[0;34m(\u001b[0m\u001b[0mself\u001b[0m\u001b[0;34m)\u001b[0m\u001b[0;34m:\u001b[0m\u001b[0;34m\u001b[0m\u001b[0;34m\u001b[0m\u001b[0m\n",
            "\u001b[0;32m/usr/local/lib/python3.6/dist-packages/torch/nn/functional.py\u001b[0m in \u001b[0;36mlinear\u001b[0;34m(input, weight, bias)\u001b[0m\n\u001b[1;32m   1610\u001b[0m         \u001b[0mret\u001b[0m \u001b[0;34m=\u001b[0m \u001b[0mtorch\u001b[0m\u001b[0;34m.\u001b[0m\u001b[0maddmm\u001b[0m\u001b[0;34m(\u001b[0m\u001b[0mbias\u001b[0m\u001b[0;34m,\u001b[0m \u001b[0minput\u001b[0m\u001b[0;34m,\u001b[0m \u001b[0mweight\u001b[0m\u001b[0;34m.\u001b[0m\u001b[0mt\u001b[0m\u001b[0;34m(\u001b[0m\u001b[0;34m)\u001b[0m\u001b[0;34m)\u001b[0m\u001b[0;34m\u001b[0m\u001b[0;34m\u001b[0m\u001b[0m\n\u001b[1;32m   1611\u001b[0m     \u001b[0;32melse\u001b[0m\u001b[0;34m:\u001b[0m\u001b[0;34m\u001b[0m\u001b[0;34m\u001b[0m\u001b[0m\n\u001b[0;32m-> 1612\u001b[0;31m         \u001b[0moutput\u001b[0m \u001b[0;34m=\u001b[0m \u001b[0minput\u001b[0m\u001b[0;34m.\u001b[0m\u001b[0mmatmul\u001b[0m\u001b[0;34m(\u001b[0m\u001b[0mweight\u001b[0m\u001b[0;34m.\u001b[0m\u001b[0mt\u001b[0m\u001b[0;34m(\u001b[0m\u001b[0;34m)\u001b[0m\u001b[0;34m)\u001b[0m\u001b[0;34m\u001b[0m\u001b[0;34m\u001b[0m\u001b[0m\n\u001b[0m\u001b[1;32m   1613\u001b[0m         \u001b[0;32mif\u001b[0m \u001b[0mbias\u001b[0m \u001b[0;32mis\u001b[0m \u001b[0;32mnot\u001b[0m \u001b[0;32mNone\u001b[0m\u001b[0;34m:\u001b[0m\u001b[0;34m\u001b[0m\u001b[0;34m\u001b[0m\u001b[0m\n\u001b[1;32m   1614\u001b[0m             \u001b[0moutput\u001b[0m \u001b[0;34m+=\u001b[0m \u001b[0mbias\u001b[0m\u001b[0;34m\u001b[0m\u001b[0;34m\u001b[0m\u001b[0m\n",
            "\u001b[0;31mRuntimeError\u001b[0m: size mismatch, m1: [2800 x 28], m2: [784 x 10] at /pytorch/aten/src/TH/generic/THTensorMath.cpp:41"
          ]
        }
      ]
    },
    {
      "cell_type": "code",
      "metadata": {
        "id": "hg50j3eKkLRq",
        "colab_type": "code",
        "colab": {
          "base_uri": "https://localhost:8080/",
          "height": 72
        },
        "outputId": "f3911ae9-acdf-463c-bd5b-484e555f4aff"
      },
      "source": [
        "class MnistModel(nn.Module):\n",
        "  def __init__(self):\n",
        "    super().__init__()\n",
        "    self.linear = nn.Linear(input_size, num_classes)\n",
        "\n",
        "  def forward(self, xb):\n",
        "    xb = xb.reshape(-1, 784) #work with any different batchsize using -1\n",
        "    out = self.linear(xb)\n",
        "    return out\n",
        "\n",
        "model = MnistModel()\n",
        "print(model)"
      ],
      "execution_count": 125,
      "outputs": [
        {
          "output_type": "stream",
          "text": [
            "MnistModel(\n",
            "  (linear): Linear(in_features=784, out_features=10, bias=True)\n",
            ")\n"
          ],
          "name": "stdout"
        }
      ]
    },
    {
      "cell_type": "code",
      "metadata": {
        "id": "OIpSn0xhk4hE",
        "colab_type": "code",
        "colab": {
          "base_uri": "https://localhost:8080/",
          "height": 239
        },
        "outputId": "7378dd20-f4a2-4fa3-edf3-5592685c3182"
      },
      "source": [
        "print(model.linear.weight.shape, model.linear.bias.shape)\n",
        "list(model.parameters())"
      ],
      "execution_count": 126,
      "outputs": [
        {
          "output_type": "stream",
          "text": [
            "torch.Size([10, 784]) torch.Size([10])\n"
          ],
          "name": "stdout"
        },
        {
          "output_type": "execute_result",
          "data": {
            "text/plain": [
              "[Parameter containing:\n",
              " tensor([[ 0.0167, -0.0122,  0.0155,  ...,  0.0302, -0.0121,  0.0191],\n",
              "         [ 0.0320,  0.0194, -0.0017,  ...,  0.0009, -0.0338, -0.0237],\n",
              "         [-0.0174, -0.0112, -0.0108,  ...,  0.0215, -0.0132, -0.0280],\n",
              "         ...,\n",
              "         [ 0.0193,  0.0214,  0.0111,  ...,  0.0064, -0.0355, -0.0037],\n",
              "         [ 0.0344,  0.0029, -0.0051,  ..., -0.0099,  0.0032, -0.0300],\n",
              "         [-0.0163,  0.0116,  0.0260,  ...,  0.0201,  0.0174,  0.0107]],\n",
              "        requires_grad=True), Parameter containing:\n",
              " tensor([-0.0216, -0.0213, -0.0043,  0.0083, -0.0329,  0.0198,  0.0158,  0.0129,\n",
              "          0.0050, -0.0197], requires_grad=True)]"
            ]
          },
          "metadata": {
            "tags": []
          },
          "execution_count": 126
        }
      ]
    },
    {
      "cell_type": "code",
      "metadata": {
        "id": "MgSyUZyalqJE",
        "colab_type": "code",
        "colab": {
          "base_uri": "https://localhost:8080/",
          "height": 128
        },
        "outputId": "f7f84b0a-b1bc-4be9-d12f-dffa8961d64b"
      },
      "source": [
        "for images, labels, in train_loader:\n",
        "  outputs = model(images)\n",
        "  break\n",
        "\n",
        "print('outputs.shape: ', outputs.shape)\n",
        "print('sample outputs: \\n', outputs[:2].data)"
      ],
      "execution_count": 127,
      "outputs": [
        {
          "output_type": "stream",
          "text": [
            "outputs.shape:  torch.Size([100, 10])\n",
            "sample outputs: \n",
            " tensor([[ 0.0678, -0.1945,  0.0160,  0.1802, -0.3739,  0.0103,  0.3242,  0.2328,\n",
            "          0.3687, -0.2050],\n",
            "        [-0.1110, -0.0728, -0.2631,  0.0716, -0.2399,  0.0011,  0.5847,  0.3068,\n",
            "          0.0058, -0.0500]])\n"
          ],
          "name": "stdout"
        }
      ]
    },
    {
      "cell_type": "code",
      "metadata": {
        "id": "96wzp3QznYaU",
        "colab_type": "code",
        "colab": {}
      },
      "source": [
        "import torch.nn.functional as F"
      ],
      "execution_count": 128,
      "outputs": []
    },
    {
      "cell_type": "code",
      "metadata": {
        "id": "mKOEC1Lgoo2d",
        "colab_type": "code",
        "colab": {
          "base_uri": "https://localhost:8080/",
          "height": 128
        },
        "outputId": "d50378b7-4700-4782-da5d-fc020077d809"
      },
      "source": [
        "probs = F.softmax(outputs, dim = 1)\n",
        "\n",
        "print('Sample probabilities: \\n', probs[:2].data)\n",
        "\n",
        "print('Sum: ', torch.sum(probs[0]).item())"
      ],
      "execution_count": 129,
      "outputs": [
        {
          "output_type": "stream",
          "text": [
            "Sample probabilities: \n",
            " tensor([[0.0999, 0.0769, 0.0949, 0.1118, 0.0642, 0.0943, 0.1291, 0.1178, 0.1350,\n",
            "         0.0761],\n",
            "        [0.0847, 0.0880, 0.0727, 0.1017, 0.0745, 0.0947, 0.1698, 0.1286, 0.0952,\n",
            "         0.0900]])\n",
            "Sum:  0.9999999403953552\n"
          ],
          "name": "stdout"
        }
      ]
    },
    {
      "cell_type": "code",
      "metadata": {
        "id": "eSQfednVo4pm",
        "colab_type": "code",
        "colab": {
          "base_uri": "https://localhost:8080/",
          "height": 331
        },
        "outputId": "9a8b0166-46d8-40a9-8a1e-77c51d7142c3"
      },
      "source": [
        "max_probs, preds = torch.max(probs, dim = 1)\n",
        "print(preds)\n",
        "print(max_probs)"
      ],
      "execution_count": 130,
      "outputs": [
        {
          "output_type": "stream",
          "text": [
            "tensor([8, 6, 6, 6, 6, 6, 6, 7, 0, 7, 7, 6, 6, 7, 6, 6, 8, 6, 3, 6, 3, 6, 6, 6,\n",
            "        7, 6, 3, 1, 6, 6, 6, 1, 8, 7, 6, 6, 6, 8, 7, 7, 3, 6, 6, 3, 8, 5, 6, 6,\n",
            "        6, 3, 6, 9, 7, 6, 7, 6, 6, 6, 6, 3, 1, 7, 7, 3, 6, 6, 7, 3, 6, 6, 6, 6,\n",
            "        6, 6, 7, 0, 7, 6, 6, 8, 6, 6, 6, 6, 6, 6, 3, 6, 6, 6, 7, 6, 3, 7, 6, 6,\n",
            "        6, 6, 6, 6])\n",
            "tensor([0.1350, 0.1698, 0.1552, 0.1341, 0.1444, 0.1726, 0.1388, 0.1283, 0.1121,\n",
            "        0.1419, 0.1323, 0.1679, 0.1635, 0.1263, 0.1273, 0.1371, 0.1309, 0.1861,\n",
            "        0.1166, 0.1540, 0.1207, 0.1694, 0.1254, 0.1362, 0.1405, 0.1346, 0.1528,\n",
            "        0.1404, 0.1281, 0.1675, 0.1433, 0.1305, 0.1298, 0.1209, 0.1329, 0.1633,\n",
            "        0.1409, 0.1162, 0.1330, 0.1457, 0.1411, 0.1688, 0.1241, 0.1385, 0.1240,\n",
            "        0.1107, 0.1550, 0.1199, 0.1390, 0.1259, 0.1413, 0.1310, 0.1275, 0.1598,\n",
            "        0.1379, 0.1251, 0.1309, 0.1481, 0.1493, 0.1240, 0.1329, 0.1193, 0.1349,\n",
            "        0.1336, 0.1327, 0.1487, 0.1370, 0.1235, 0.1280, 0.1453, 0.1306, 0.1743,\n",
            "        0.1364, 0.1647, 0.1212, 0.1282, 0.1360, 0.1422, 0.1481, 0.1230, 0.1416,\n",
            "        0.1435, 0.1547, 0.1310, 0.1152, 0.1546, 0.1691, 0.1787, 0.1394, 0.1532,\n",
            "        0.1346, 0.1296, 0.1374, 0.1213, 0.1562, 0.1493, 0.1599, 0.1389, 0.1439,\n",
            "        0.1458], grad_fn=<MaxBackward0>)\n"
          ],
          "name": "stdout"
        }
      ]
    },
    {
      "cell_type": "code",
      "metadata": {
        "id": "FTu288ujpIPu",
        "colab_type": "code",
        "colab": {
          "base_uri": "https://localhost:8080/",
          "height": 109
        },
        "outputId": "14a28004-1d59-4d98-e13d-c5bcbc0939a4"
      },
      "source": [
        "labels"
      ],
      "execution_count": 131,
      "outputs": [
        {
          "output_type": "execute_result",
          "data": {
            "text/plain": [
              "tensor([0, 3, 0, 5, 3, 0, 6, 1, 7, 8, 6, 2, 9, 9, 3, 3, 7, 3, 1, 2, 9, 0, 1, 1,\n",
              "        6, 7, 2, 7, 4, 7, 6, 7, 3, 9, 9, 8, 3, 7, 5, 4, 5, 7, 3, 4, 5, 9, 7, 4,\n",
              "        7, 9, 6, 7, 8, 6, 6, 1, 8, 6, 3, 1, 7, 9, 5, 4, 7, 7, 5, 2, 7, 7, 8, 3,\n",
              "        7, 8, 4, 4, 2, 3, 3, 8, 3, 8, 5, 2, 1, 8, 8, 2, 3, 0, 4, 1, 2, 1, 4, 2,\n",
              "        2, 8, 4, 7])"
            ]
          },
          "metadata": {
            "tags": []
          },
          "execution_count": 131
        }
      ]
    },
    {
      "cell_type": "code",
      "metadata": {
        "id": "51WSuu1spU9K",
        "colab_type": "code",
        "colab": {}
      },
      "source": [
        "def accuracy(l1, l2):\n",
        "  return torch.sum(l1 == l2).item() / len(l1)"
      ],
      "execution_count": 132,
      "outputs": []
    },
    {
      "cell_type": "code",
      "metadata": {
        "id": "wiPOqVyQp388",
        "colab_type": "code",
        "colab": {
          "base_uri": "https://localhost:8080/",
          "height": 35
        },
        "outputId": "f5a7e80d-7f0b-450c-c39c-618c216a897b"
      },
      "source": [
        "accuracy(preds, labels)"
      ],
      "execution_count": 133,
      "outputs": [
        {
          "output_type": "execute_result",
          "data": {
            "text/plain": [
              "0.06"
            ]
          },
          "metadata": {
            "tags": []
          },
          "execution_count": 133
        }
      ]
    },
    {
      "cell_type": "code",
      "metadata": {
        "id": "mq0u3uH6qBiJ",
        "colab_type": "code",
        "colab": {}
      },
      "source": [
        "loss_fn = F.cross_entropy"
      ],
      "execution_count": 134,
      "outputs": []
    },
    {
      "cell_type": "code",
      "metadata": {
        "id": "j6_F0JYWtzkI",
        "colab_type": "code",
        "colab": {
          "base_uri": "https://localhost:8080/",
          "height": 35
        },
        "outputId": "2e0953c2-b9bf-49bd-8c60-2ffff6703068"
      },
      "source": [
        "loss = loss_fn(outputs, labels)\n",
        "print(loss)"
      ],
      "execution_count": 135,
      "outputs": [
        {
          "output_type": "stream",
          "text": [
            "tensor(2.3366, grad_fn=<NllLossBackward>)\n"
          ],
          "name": "stdout"
        }
      ]
    },
    {
      "cell_type": "code",
      "metadata": {
        "id": "G4QyE1j4t2hO",
        "colab_type": "code",
        "colab": {}
      },
      "source": [
        "learning_rate = 0.001\n",
        "optimizer = torch.optim.SGD(model.parameters(), lr = learning_rate)"
      ],
      "execution_count": 136,
      "outputs": []
    },
    {
      "cell_type": "code",
      "metadata": {
        "id": "-2qEP5XwuUQZ",
        "colab_type": "code",
        "colab": {}
      },
      "source": [
        "def loss_batch(model, loss_func, xb, yb, opt = None, metric = None):\n",
        "\n",
        "  preds = model(xb)\n",
        "  loss = loss_func(preds, yb)\n",
        "\n",
        "  if opt is not None:\n",
        "    loss.backward()\n",
        "    opt.step()\n",
        "    opt.zero_grad()\n",
        "\n",
        "  metric_result = None\n",
        "  if metric is not None:\n",
        "    metric_result = metric(preds, yb)\n",
        "\n",
        "  return loss.item(), len(xb), metric_result"
      ],
      "execution_count": 137,
      "outputs": []
    },
    {
      "cell_type": "code",
      "metadata": {
        "id": "TdSQPEan4IZe",
        "colab_type": "code",
        "colab": {}
      },
      "source": [
        "for xb, yb in train_loader:\n",
        "  print(loss_batch(model, F.cross_entropy, xb, yb, optimizer, metric = accuracy))"
      ],
      "execution_count": null,
      "outputs": []
    },
    {
      "cell_type": "code",
      "metadata": {
        "id": "hr9nEPJhvGxI",
        "colab_type": "code",
        "colab": {}
      },
      "source": [
        "def evaluate(model, loss_fn, valid_dl, metric = None):\n",
        "  with torch.no_grad():\n",
        "    results = [loss_batch(model, loss_fn, xb, yb, metric = metric) for xb, yb, in valid_dl]\n",
        "\n",
        "    losses, nums, metrics = zip(*results)\n",
        "    total = np.sum(nums)\n",
        "\n",
        "    avg_loss = np.sum(np.multiply(losses, nums)) / total\n",
        "    avg_metric = None\n",
        "\n",
        "    if metric is not None:\n",
        "      avg_metric = np.sum(np.multiply(metrics, nums)) / total\n",
        "\n",
        "  return avg_loss, total, avg_metric"
      ],
      "execution_count": 141,
      "outputs": []
    },
    {
      "cell_type": "code",
      "metadata": {
        "id": "PyDMAtkfv_U8",
        "colab_type": "code",
        "colab": {}
      },
      "source": [
        "def accuracy(outputs, labels):\n",
        "  _, preds = torch.max(outputs, dim = 1)\n",
        "  return torch.sum(preds == labels).item() / len(preds)"
      ],
      "execution_count": 142,
      "outputs": []
    },
    {
      "cell_type": "code",
      "metadata": {
        "id": "wx_IEjQSxiLT",
        "colab_type": "code",
        "colab": {
          "base_uri": "https://localhost:8080/",
          "height": 35
        },
        "outputId": "dd9ab4a6-dff6-4ca1-9517-8e8113cdec7a"
      },
      "source": [
        "val_loss, total, val_acc = evaluate(model, loss_fn, val_loader, accuracy)\n",
        "print(f'Loss: {val_loss}, Accuracy: {val_acc}')"
      ],
      "execution_count": 143,
      "outputs": [
        {
          "output_type": "stream",
          "text": [
            "Loss: 1.9026235977808634, Accuracy: 0.6051666666666666\n"
          ],
          "name": "stdout"
        }
      ]
    },
    {
      "cell_type": "code",
      "metadata": {
        "id": "ac2diOCFx7RK",
        "colab_type": "code",
        "colab": {}
      },
      "source": [
        "def fit(epochs, model, loss_fn, opt, train_dl, valid_dl, metric = None):\n",
        "  for epoch in range(epochs):\n",
        "\n",
        "    for xb, yb, in train_dl:\n",
        "      loss, _, _ = loss_batch(model, loss_fn, xb, yb, opt)\n",
        "\n",
        "    result = evaluate(model, loss_fn, valid_dl, metric)\n",
        "    val_loss, total, val_metric = result\n",
        "\n",
        "    if metric is None:\n",
        "      print(f'Epoch : [{epoch + 1} / {epochs}], Loss : {val_loss}')\n",
        "\n",
        "    else:\n",
        "      print(f'Epoch : [{epoch + 1} / {epochs}], Loss : {val_loss}, {metric.__name__}, {val_metric}')"
      ],
      "execution_count": 151,
      "outputs": []
    },
    {
      "cell_type": "code",
      "metadata": {
        "id": "s5eAmIRfzP3d",
        "colab_type": "code",
        "colab": {
          "base_uri": "https://localhost:8080/",
          "height": 165
        },
        "outputId": "25187e69-f4a6-490e-a44f-746e96d5cfbd"
      },
      "source": [
        "model = MnistModel()\n",
        "optimizer = torch.optim.SGD(model.parameters(), lr = learning_rate)\n",
        "print(optimizer)"
      ],
      "execution_count": 152,
      "outputs": [
        {
          "output_type": "stream",
          "text": [
            "SGD (\n",
            "Parameter Group 0\n",
            "    dampening: 0\n",
            "    lr: 0.001\n",
            "    momentum: 0\n",
            "    nesterov: False\n",
            "    weight_decay: 0\n",
            ")\n"
          ],
          "name": "stdout"
        }
      ]
    },
    {
      "cell_type": "code",
      "metadata": {
        "id": "6PopecVozcG0",
        "colab_type": "code",
        "colab": {
          "base_uri": "https://localhost:8080/",
          "height": 109
        },
        "outputId": "929630d9-32e4-4a88-c231-3da70d1c2b86"
      },
      "source": [
        "fit(5, model, F.cross_entropy, optimizer, train_loader, val_loader, accuracy)"
      ],
      "execution_count": 153,
      "outputs": [
        {
          "output_type": "stream",
          "text": [
            "Epoch : [1 / 5], Loss : 1.8521830687920253, accuracy, 0.6773333333333333\n",
            "Epoch : [2 / 5], Loss : 1.565348129471143, accuracy, 0.7439166666666667\n",
            "Epoch : [3 / 5], Loss : 1.3635883202155432, accuracy, 0.7705\n",
            "Epoch : [4 / 5], Loss : 1.217963911096255, accuracy, 0.7889166666666667\n",
            "Epoch : [5 / 5], Loss : 1.1095266511042914, accuracy, 0.8003333333333333\n"
          ],
          "name": "stdout"
        }
      ]
    },
    {
      "cell_type": "code",
      "metadata": {
        "id": "Eike-6ubzm5t",
        "colab_type": "code",
        "colab": {
          "base_uri": "https://localhost:8080/",
          "height": 109
        },
        "outputId": "7350e99a-c150-4304-de00-a470b672f5f1"
      },
      "source": [
        "fit(5, model, F.cross_entropy, optimizer, train_loader, val_loader, accuracy)"
      ],
      "execution_count": 154,
      "outputs": [
        {
          "output_type": "stream",
          "text": [
            "Epoch : [1 / 5], Loss : 1.026233318944772, accuracy, 0.8096666666666666\n",
            "Epoch : [2 / 5], Loss : 0.9604583332935969, accuracy, 0.8170833333333334\n",
            "Epoch : [3 / 5], Loss : 0.907280711332957, accuracy, 0.824\n",
            "Epoch : [4 / 5], Loss : 0.8633125782012939, accuracy, 0.8279166666666666\n",
            "Epoch : [5 / 5], Loss : 0.8263461540142695, accuracy, 0.8314166666666667\n"
          ],
          "name": "stdout"
        }
      ]
    },
    {
      "cell_type": "code",
      "metadata": {
        "id": "E_Ak4yDB5gMW",
        "colab_type": "code",
        "colab": {
          "base_uri": "https://localhost:8080/",
          "height": 109
        },
        "outputId": "8d37a571-2b82-4a41-cbcf-c368b658fed4"
      },
      "source": [
        "fit(5, model, F.cross_entropy, optimizer, train_loader, val_loader, accuracy)"
      ],
      "execution_count": 155,
      "outputs": [
        {
          "output_type": "stream",
          "text": [
            "Epoch : [1 / 5], Loss : 0.794845383365949, accuracy, 0.8356666666666667\n",
            "Epoch : [2 / 5], Loss : 0.7676244725783666, accuracy, 0.8371666666666666\n",
            "Epoch : [3 / 5], Loss : 0.7438332860668501, accuracy, 0.83975\n",
            "Epoch : [4 / 5], Loss : 0.722846103211244, accuracy, 0.8410833333333333\n",
            "Epoch : [5 / 5], Loss : 0.7041573598980904, accuracy, 0.8439166666666666\n"
          ],
          "name": "stdout"
        }
      ]
    },
    {
      "cell_type": "markdown",
      "metadata": {
        "id": "qJ6BQ7nH1q--",
        "colab_type": "text"
      },
      "source": [
        "save model"
      ]
    },
    {
      "cell_type": "code",
      "metadata": {
        "id": "Q7DWFlar18n5",
        "colab_type": "code",
        "colab": {}
      },
      "source": [
        "torch.save(model.state_dict(), 'mnist-logistic.pth')"
      ],
      "execution_count": 111,
      "outputs": []
    },
    {
      "cell_type": "code",
      "metadata": {
        "id": "IaRiRDTe2MLi",
        "colab_type": "code",
        "colab": {
          "base_uri": "https://localhost:8080/",
          "height": 220
        },
        "outputId": "0827d6b8-922c-4a63-a673-185a0cdbe82f"
      },
      "source": [
        "model.state_dict()"
      ],
      "execution_count": 112,
      "outputs": [
        {
          "output_type": "execute_result",
          "data": {
            "text/plain": [
              "OrderedDict([('linear.weight',\n",
              "              tensor([[ 0.0353,  0.0319, -0.0277,  ...,  0.0350, -0.0351, -0.0241],\n",
              "                      [-0.0040, -0.0240, -0.0111,  ..., -0.0001,  0.0331, -0.0132],\n",
              "                      [-0.0204, -0.0253, -0.0261,  ..., -0.0131,  0.0116, -0.0161],\n",
              "                      ...,\n",
              "                      [ 0.0059,  0.0060,  0.0158,  ...,  0.0047, -0.0323, -0.0059],\n",
              "                      [-0.0211,  0.0181,  0.0345,  ...,  0.0329,  0.0086, -0.0237],\n",
              "                      [ 0.0055, -0.0150, -0.0260,  ..., -0.0356,  0.0177, -0.0123]])),\n",
              "             ('linear.bias',\n",
              "              tensor([ 0.0271,  0.0040, -0.0236, -0.0189,  0.0060, -0.0098, -0.0022,  0.0220,\n",
              "                       0.0163,  0.0313]))])"
            ]
          },
          "metadata": {
            "tags": []
          },
          "execution_count": 112
        }
      ]
    },
    {
      "cell_type": "code",
      "metadata": {
        "id": "05IRz-IJ2Nip",
        "colab_type": "code",
        "colab": {
          "base_uri": "https://localhost:8080/",
          "height": 220
        },
        "outputId": "cb4c5c9d-9708-49fb-f637-4b058d337028"
      },
      "source": [
        "model2 = MnistModel()\n",
        "model2.load_state_dict(torch.load('mnist-logistic.pth'))\n",
        "model2.state_dict()"
      ],
      "execution_count": 113,
      "outputs": [
        {
          "output_type": "execute_result",
          "data": {
            "text/plain": [
              "OrderedDict([('linear.weight',\n",
              "              tensor([[ 0.0353,  0.0319, -0.0277,  ...,  0.0350, -0.0351, -0.0241],\n",
              "                      [-0.0040, -0.0240, -0.0111,  ..., -0.0001,  0.0331, -0.0132],\n",
              "                      [-0.0204, -0.0253, -0.0261,  ..., -0.0131,  0.0116, -0.0161],\n",
              "                      ...,\n",
              "                      [ 0.0059,  0.0060,  0.0158,  ...,  0.0047, -0.0323, -0.0059],\n",
              "                      [-0.0211,  0.0181,  0.0345,  ...,  0.0329,  0.0086, -0.0237],\n",
              "                      [ 0.0055, -0.0150, -0.0260,  ..., -0.0356,  0.0177, -0.0123]])),\n",
              "             ('linear.bias',\n",
              "              tensor([ 0.0271,  0.0040, -0.0236, -0.0189,  0.0060, -0.0098, -0.0022,  0.0220,\n",
              "                       0.0163,  0.0313]))])"
            ]
          },
          "metadata": {
            "tags": []
          },
          "execution_count": 113
        }
      ]
    }
  ]
}